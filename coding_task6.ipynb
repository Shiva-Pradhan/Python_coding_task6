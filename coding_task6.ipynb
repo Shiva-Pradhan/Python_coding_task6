{
 "cells": [
  {
   "cell_type": "code",
   "execution_count": 1,
   "id": "efded63e-ec0d-4a69-aa56-47e14f872436",
   "metadata": {},
   "outputs": [
    {
     "name": "stdout",
     "output_type": "stream",
     "text": [
      "{'hello': 2, 'world': 2, 'python': 1}\n"
     ]
    }
   ],
   "source": [
    "# Word Frequency in Text\n",
    "def word_frequency(text):\n",
    "    freq = {}\n",
    "    for word in text.lower().split():\n",
    "        word = word.strip(\".,!?\")  # remove punctuation\n",
    "        freq[word] = freq.get(word, 0) + 1\n",
    "    return freq\n",
    "text = \"Hello world! Hello Python world.\"\n",
    "print(word_frequency(text))"
   ]
  },
  {
   "cell_type": "code",
   "execution_count": 5,
   "id": "edfc7373-c291-494c-bc87-611d70f3bd58",
   "metadata": {},
   "outputs": [
    {
     "name": "stdout",
     "output_type": "stream",
     "text": [
      "9\n"
     ]
    }
   ],
   "source": [
    "# Knapsack Problem (0/1 DP)\n",
    "def knapsack(weights, values, capacity):\n",
    "    n = len(values)\n",
    "    dp = [[0]*(capacity+1) for _ in range(n+1)]\n",
    "\n",
    "    for i in range(1, n+1):\n",
    "        for w in range(1, capacity+1):\n",
    "            if weights[i-1] <= w:\n",
    "                dp[i][w] = max(dp[i-1][w], dp[i-1][w-weights[i-1]] + values[i-1])\n",
    "            else:\n",
    "                dp[i][w] = dp[i-1][w]\n",
    "    return dp[n][capacity]\n",
    "print(knapsack([1, 3, 4, 5], [1, 4, 5, 7], 7))  "
   ]
  },
  {
   "cell_type": "code",
   "execution_count": 6,
   "id": "3f2e410f-568f-44c9-9a67-2d67c597cdd3",
   "metadata": {},
   "outputs": [
    {
     "name": "stdout",
     "output_type": "stream",
     "text": [
      "[[1, 6], [8, 10], [15, 18]]\n"
     ]
    }
   ],
   "source": [
    "# Merge Intervals\n",
    "def merge_intervals(intervals):\n",
    "    intervals.sort(key=lambda x: x[0])\n",
    "    merged = []\n",
    "\n",
    "    for interval in intervals:\n",
    "        if not merged or merged[-1][1] < interval[0]:\n",
    "            merged.append(interval)\n",
    "        else:\n",
    "            merged[-1][1] = max(merged[-1][1], interval[1])\n",
    "    return merged\n",
    "print(merge_intervals([[1,3],[2,6],[8,10],[15,18]]))"
   ]
  },
  {
   "cell_type": "code",
   "execution_count": 8,
   "id": "497eb96d-253f-461c-a2f2-5ba1ed47e4fc",
   "metadata": {},
   "outputs": [
    {
     "name": "stdout",
     "output_type": "stream",
     "text": [
      "2\n",
      "2.5\n"
     ]
    }
   ],
   "source": [
    "# Median of Two Sorted Arrays\n",
    "def find_median_sorted_arrays(a, b):\n",
    "    merged = sorted(a+b)\n",
    "    n = len(merged)\n",
    "    if n % 2 == 1:\n",
    "        return merged[n//2]\n",
    "    else:\n",
    "        return (merged[n//2 - 1] + merged[n//2])/2\n",
    "print(find_median_sorted_arrays([1,3], [2]))        \n",
    "print(find_median_sorted_arrays([1,2], [3,4]))    "
   ]
  },
  {
   "cell_type": "code",
   "execution_count": 9,
   "id": "06a87014-689a-41b7-bda2-f5f1c9babf8e",
   "metadata": {},
   "outputs": [
    {
     "name": "stdout",
     "output_type": "stream",
     "text": [
      "6\n"
     ]
    }
   ],
   "source": [
    "# Maximal Rectangle in Binary Matrix\n",
    "def largestRectangleArea(heights):\n",
    "    stack, max_area = [], 0\n",
    "    for i, h in enumerate(heights + [0]):\n",
    "        while stack and heights[stack[-1]] > h:\n",
    "            height = heights[stack.pop()]\n",
    "            width = i if not stack else i - stack[-1] - 1\n",
    "            max_area = max(max_area, height*width)\n",
    "        stack.append(i)\n",
    "    return max_area\n",
    "\n",
    "def maximalRectangle(matrix):\n",
    "    if not matrix:\n",
    "        return 0\n",
    "    n = len(matrix[0])\n",
    "    heights = [0]*n\n",
    "    max_area = 0\n",
    "    for row in matrix:\n",
    "        for i in range(n):\n",
    "            heights[i] = heights[i]+1 if row[i] == '1' else 0\n",
    "        max_area = max(max_area, largestRectangleArea(heights))\n",
    "    return max_area\n",
    "matrix = [\n",
    "    [\"1\",\"0\",\"1\",\"0\",\"0\"],\n",
    "    [\"1\",\"0\",\"1\",\"1\",\"1\"],\n",
    "    [\"1\",\"1\",\"1\",\"1\",\"1\"],\n",
    "    [\"1\",\"0\",\"0\",\"1\",\"0\"]\n",
    "]\n",
    "print(maximalRectangle(matrix))  "
   ]
  },
  {
   "cell_type": "code",
   "execution_count": 10,
   "id": "601a7832-a71e-47d5-8970-01fb41f184ff",
   "metadata": {},
   "outputs": [
    {
     "name": "stdout",
     "output_type": "stream",
     "text": [
      "6\n"
     ]
    }
   ],
   "source": [
    "# Largest Sum Contiguous Subarray (Kadane’s Algorithm)\n",
    "def max_subarray(nums):\n",
    "    max_sum = nums[0]\n",
    "    curr_sum = nums[0]\n",
    "    \n",
    "    for num in nums[1:]:\n",
    "        curr_sum = max(num, curr_sum + num)\n",
    "        max_sum = max(max_sum, curr_sum)\n",
    "    return max_sum\n",
    "print(max_subarray([-2,1,-3,4,-1,2,1,-5,4]))  "
   ]
  },
  {
   "cell_type": "code",
   "execution_count": 12,
   "id": "eac231a7-ae7f-4794-ac97-6da3836718eb",
   "metadata": {},
   "outputs": [
    {
     "name": "stdout",
     "output_type": "stream",
     "text": [
      "5\n"
     ]
    }
   ],
   "source": [
    "# Word Ladder Problem (BFS)\n",
    "from collections import deque\n",
    "def word_ladder(begin, end, word_list):\n",
    "    word_set = set(word_list)\n",
    "    if end not in word_set:\n",
    "        return 0\n",
    "    \n",
    "    q = deque([(begin, 1)])\n",
    "    while q:\n",
    "        word, steps = q.popleft()\n",
    "        if word == end:\n",
    "            return steps\n",
    "        \n",
    "        for i in range(len(word)):\n",
    "            for ch in \"abcdefghijklmnopqrstuvwxyz\":\n",
    "                new_word = word[:i] + ch + word[i+1:]\n",
    "                if new_word in word_set:\n",
    "                    word_set.remove(new_word)\n",
    "                    q.append((new_word, steps+1))\n",
    "    return 0\n",
    "print(word_ladder(\"hit\", \"cog\", [\"hot\",\"dot\",\"dog\",\"lot\",\"log\",\"cog\"]))  "
   ]
  },
  {
   "cell_type": "code",
   "execution_count": 13,
   "id": "3fde5ed8-027c-4c1e-a36e-8e0dedc5310e",
   "metadata": {},
   "outputs": [
    {
     "name": "stdout",
     "output_type": "stream",
     "text": [
      "Welcome, Sid! Your journey begins...\n",
      "A wild Goblin appears!\n"
     ]
    },
    {
     "name": "stdin",
     "output_type": "stream",
     "text": [
      "Attack (a) or Run (r):  a\n"
     ]
    },
    {
     "name": "stdout",
     "output_type": "stream",
     "text": [
      "You hit Goblin, HP left: 43\n",
      "Goblin attacks you, HP left: 97\n"
     ]
    },
    {
     "name": "stdin",
     "output_type": "stream",
     "text": [
      "Attack (a) or Run (r):  r\n"
     ]
    },
    {
     "name": "stdout",
     "output_type": "stream",
     "text": [
      "You ran away!\n",
      "Game saved!\n",
      "Welcome back, Sid! HP: 97\n"
     ]
    }
   ],
   "source": [
    "# Command-Line RPG Game (Text-Based)\n",
    "import random\n",
    "import json\n",
    "\n",
    "class Player:\n",
    "    def __init__(self, name):\n",
    "        self.name = name\n",
    "        self.hp = 100\n",
    "        self.attack = 10\n",
    "        self.defense = 5\n",
    "        self.inventory = []\n",
    "    \n",
    "    def is_alive(self):\n",
    "        return self.hp > 0\n",
    "\n",
    "class Enemy:\n",
    "    def __init__(self, name, hp, attack):\n",
    "        self.name = name\n",
    "        self.hp = hp\n",
    "        self.attack = attack\n",
    "    \n",
    "    def is_alive(self):\n",
    "        return self.hp > 0\n",
    "\n",
    "class RPGGame:\n",
    "    def __init__(self):\n",
    "        self.player = None\n",
    "    \n",
    "    def start_game(self, name):\n",
    "        self.player = Player(name)\n",
    "        print(f\"Welcome, {self.player.name}! Your journey begins...\")\n",
    "\n",
    "    def fight(self):\n",
    "        enemy = Enemy(\"Goblin\", 50, 8)\n",
    "        print(f\"A wild {enemy.name} appears!\")\n",
    "        \n",
    "        while self.player.is_alive() and enemy.is_alive():\n",
    "            action = input(\"Attack (a) or Run (r): \")\n",
    "            if action == \"a\":\n",
    "                enemy.hp -= max(0, self.player.attack - 3)\n",
    "                print(f\"You hit {enemy.name}, HP left: {enemy.hp}\")\n",
    "                if enemy.is_alive():\n",
    "                    self.player.hp -= max(0, enemy.attack - self.player.defense)\n",
    "                    print(f\"{enemy.name} attacks you, HP left: {self.player.hp}\")\n",
    "            elif action == \"r\":\n",
    "                print(\"You ran away!\")\n",
    "                return\n",
    "        print(\"Fight ended!\")\n",
    "\n",
    "    def save_game(self):\n",
    "        data = {\"name\": self.player.name, \"hp\": self.player.hp}\n",
    "        with open(\"save.json\", \"w\") as f:\n",
    "            json.dump(data, f)\n",
    "        print(\"Game saved!\")\n",
    "    \n",
    "    def load_game(self):\n",
    "        try:\n",
    "            with open(\"save.json\", \"r\") as f:\n",
    "                data = json.load(f)\n",
    "                self.player = Player(data[\"name\"])\n",
    "                self.player.hp = data[\"hp\"]\n",
    "                print(f\"Welcome back, {self.player.name}! HP: {self.player.hp}\")\n",
    "        except FileNotFoundError:\n",
    "            print(\"No saved game found.\")\n",
    "\n",
    "game = RPGGame()\n",
    "game.start_game(\"Sid\")\n",
    "game.fight()\n",
    "game.save_game()\n",
    "game.load_game()"
   ]
  },
  {
   "cell_type": "code",
   "execution_count": null,
   "id": "abcc20d8-47d7-4078-b65a-7b5789ef7e04",
   "metadata": {},
   "outputs": [],
   "source": []
  }
 ],
 "metadata": {
  "kernelspec": {
   "display_name": "Python [conda env:base] *",
   "language": "python",
   "name": "conda-base-py"
  },
  "language_info": {
   "codemirror_mode": {
    "name": "ipython",
    "version": 3
   },
   "file_extension": ".py",
   "mimetype": "text/x-python",
   "name": "python",
   "nbconvert_exporter": "python",
   "pygments_lexer": "ipython3",
   "version": "3.12.7"
  }
 },
 "nbformat": 4,
 "nbformat_minor": 5
}
